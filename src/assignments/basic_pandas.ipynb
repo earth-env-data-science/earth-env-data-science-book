{
 "cells": [
  {
   "cell_type": "markdown",
   "metadata": {},
   "source": [
    "# Assignment 5: Pandas Fundamentals with Earthquake Data\n",
    "\n",
    "In this assignment, we will review pandas fundamentals, such as how to\n",
    "\n",
    "- Open csv files\n",
    "- Manipulate dataframe indexes\n",
    "- Parse date columns\n",
    "- Examine basic dataframe statistics\n",
    "- Manipulate text columns and extract values\n",
    "- Plot dataframe contents using\n",
    "  - Bar charts\n",
    "  - Histograms\n",
    "  - Scatter plots"
   ]
  },
  {
   "cell_type": "markdown",
   "metadata": {},
   "source": [
    "First, import Numpy, Pandas and Matplotlib and set the display options."
   ]
  },
  {
   "cell_type": "code",
   "execution_count": null,
   "metadata": {},
   "outputs": [],
   "source": []
  },
  {
   "cell_type": "markdown",
   "metadata": {},
   "source": [
    "Data for this assignment in .csv format downloaded from the [USGS Earthquakes Database](https://earthquake.usgs.gov/earthquakes/search/) is available at:\n",
    "\n",
    "http://www.ldeo.columbia.edu/~rpa/usgs_earthquakes_2014.csv\n",
    "\n",
    "You don't need to download this file. You can open it directly with Pandas."
   ]
  },
  {
   "cell_type": "markdown",
   "metadata": {},
   "source": [
    "### 1) Use Pandas' read_csv function directly on this URL to open it as a DataFrame\n",
    "(Don't use any special options). Display the first few rows and the DataFrame info."
   ]
  },
  {
   "cell_type": "code",
   "execution_count": null,
   "metadata": {},
   "outputs": [],
   "source": []
  },
  {
   "cell_type": "code",
   "execution_count": null,
   "metadata": {},
   "outputs": [],
   "source": []
  },
  {
   "cell_type": "markdown",
   "metadata": {},
   "source": [
    "You should have seen that the dates were not automatically parsed into datetime types.\n",
    "\n",
    "### 2) Re-read the data in such a way that all date columns are identified as dates and the earthquake ID is used as the index\n",
    "\n",
    "Verify that this worked using the `head` and `info` functions.\n"
   ]
  },
  {
   "cell_type": "code",
   "execution_count": null,
   "metadata": {},
   "outputs": [],
   "source": []
  },
  {
   "cell_type": "code",
   "execution_count": null,
   "metadata": {},
   "outputs": [],
   "source": []
  },
  {
   "cell_type": "markdown",
   "metadata": {},
   "source": [
    "### 3) Use `describe` to get the basic statistics of all the columns\n",
    "\n",
    "Note the highest and lowest magnitude of earthquakes in the databse."
   ]
  },
  {
   "cell_type": "code",
   "execution_count": null,
   "metadata": {},
   "outputs": [],
   "source": []
  },
  {
   "cell_type": "markdown",
   "metadata": {},
   "source": [
    "### 4) Use `nlargest` to get the top 20 earthquakes by magnitude\n",
    "\n",
    "https://pandas.pydata.org/pandas-docs/stable/generated/pandas.Series.nlargest.html"
   ]
  },
  {
   "cell_type": "code",
   "execution_count": null,
   "metadata": {},
   "outputs": [],
   "source": []
  },
  {
   "cell_type": "markdown",
   "metadata": {},
   "source": [
    "Examine the structure of the `place` column. The state / country information seems to be in there. How would you get it out?\n",
    "\n",
    "### 5) Extract the state or country using Pandas [text data functions](https://pandas.pydata.org/pandas-docs/stable/text.html)\n",
    "\n",
    "Add it as a new column to the dataframe called `country`. Note that some of the \"countries\" are actually U.S. states."
   ]
  },
  {
   "cell_type": "code",
   "execution_count": null,
   "metadata": {},
   "outputs": [],
   "source": []
  },
  {
   "cell_type": "markdown",
   "metadata": {},
   "source": [
    "### 6) Display each unique value from the new column\n",
    "\n",
    "https://pandas.pydata.org/pandas-docs/stable/generated/pandas.Series.unique.html"
   ]
  },
  {
   "cell_type": "code",
   "execution_count": null,
   "metadata": {},
   "outputs": [],
   "source": []
  },
  {
   "cell_type": "markdown",
   "metadata": {},
   "source": [
    "### 7) Make a bar chart of the top 5 earthquake magnitudes vs country/state "
   ]
  },
  {
   "cell_type": "code",
   "execution_count": null,
   "metadata": {},
   "outputs": [],
   "source": []
  },
  {
   "cell_type": "markdown",
   "metadata": {},
   "source": [
    "### 8) Create a filtered dataset that only has earthquakes of magnitude 4 or larger and"
   ]
  },
  {
   "cell_type": "code",
   "execution_count": null,
   "metadata": {},
   "outputs": [],
   "source": []
  },
  {
   "cell_type": "markdown",
   "metadata": {},
   "source": [
    "### 9) Make a histogram the distribution of the Earthquake magnitudes\n",
    "\n",
    "https://pandas.pydata.org/pandas-docs/version/0.23/generated/pandas.DataFrame.hist.html\n",
    "https://matplotlib.org/api/_as_gen/matplotlib.pyplot.hist.html\n",
    "\n",
    "Do one subplot for the filtered and one for the unfiltered dataset.\n",
    "Use a Logarithmic scale. What sort of relationship do you see?"
   ]
  },
  {
   "cell_type": "code",
   "execution_count": null,
   "metadata": {},
   "outputs": [],
   "source": []
  },
  {
   "cell_type": "markdown",
   "metadata": {},
   "source": [
    "### 11) Visualize the locations of earthquakes by making a scatterplot of their latitude and longitude\n",
    "\n",
    "Use a two-column subplot with both the filtered and unfiltered datasets. Color the points by magnitude. Make it pretty\n",
    "\n",
    "What difference do you note between the filtered and unfiltered datasets?"
   ]
  },
  {
   "cell_type": "code",
   "execution_count": null,
   "metadata": {},
   "outputs": [],
   "source": []
  }
 ],
 "metadata": {
  "kernelspec": {
   "display_name": "Python 3",
   "language": "python",
   "name": "python3"
  },
  "language_info": {
   "codemirror_mode": {
    "name": "ipython",
    "version": 3
   },
   "file_extension": ".py",
   "mimetype": "text/x-python",
   "name": "python",
   "nbconvert_exporter": "python",
   "pygments_lexer": "ipython3",
   "version": "3.7.8"
  }
 },
 "nbformat": 4,
 "nbformat_minor": 4
}
