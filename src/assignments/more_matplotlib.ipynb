{
 "cells": [
  {
   "cell_type": "markdown",
   "metadata": {},
   "source": [
    "# Assignment 4: More Matplotlib\n",
    "\n",
    "The goal here is to replicate the figures you see as closely as possible.\n",
    "\n",
    "In order to get some data, you will have to run the code in the cells below. **Don't worry about how this code works.** In the end, it will give you some Numpy arrays, which you will use in your plots. You are not allowed to use any packages other than Numpy and Matplotlib to complete your assignment."
   ]
  },
  {
   "cell_type": "markdown",
   "metadata": {},
   "source": [
    "### Problem 1: Line plots\n",
    "\n",
    "In this problem, we will plot some daily weather data from a NOAA station in [Millbrook, NY](https://www.ncdc.noaa.gov/cdo-web/datasets/GHCND/stations/GHCND:US1NYDT0008/detail). A full description of this dataset is available at: <https://www.ncdc.noaa.gov/data-access/land-based-station-data>\n",
    "\n",
    "The cell below uses Pandas to download the data and populate a bunch of Numpy arrays (`t_daily_min`, `t_daily_max`, etc.) Run the cell and then use the Numpy arrays to try to re-create the plot you see."
   ]
  },
  {
   "cell_type": "code",
   "execution_count": 1,
   "metadata": {},
   "outputs": [],
   "source": [
    "import urllib\n",
    "import pandas as pd\n",
    "\n",
    "header_url = 'ftp://ftp.ncdc.noaa.gov/pub/data/uscrn/products/daily01/HEADERS.txt'\n",
    "with urllib.request.urlopen(header_url) as response:\n",
    "    data = response.read().decode('utf-8')\n",
    "lines = data.split('\\n')\n",
    "headers = lines[1].split(' ')[:-1]\n",
    "\n",
    "ftp_base = 'ftp://ftp.ncdc.noaa.gov/pub/data/uscrn/products/daily01/'\n",
    "dframes = []\n",
    "for year in range(2016, 2019):\n",
    "    data_url = f'{year}/CRND0103-{year}-NY_Millbrook_3_W.txt'               \n",
    "    df = pd.read_csv(ftp_base + data_url, parse_dates=[1],\n",
    "                     names=headers, header=None, sep='\\s+',\n",
    "                     na_values=[-9999.0, -99.0])\n",
    "    dframes.append(df)\n",
    "\n",
    "df = pd.concat(dframes)\n",
    "df = df.set_index('LST_DATE')\n",
    "\n",
    "#########################################################\n",
    "#### BELOW ARE THE VARIABLES YOU SHOULD USE IN THE PLOTS!\n",
    "#### (numpy arrays)  \n",
    "#### NO PANDAS ALLOWED!\n",
    "#########################################################\n",
    "\n",
    "t_daily_min = df.T_DAILY_MIN.values\n",
    "t_daily_max = df.T_DAILY_MAX.values\n",
    "t_daily_mean = df.T_DAILY_MEAN.values\n",
    "p_daily_calc = df.P_DAILY_CALC.values\n",
    "soil_moisture_5 = df.SOIL_MOISTURE_5_DAILY.values\n",
    "soil_moisture_10 = df.SOIL_MOISTURE_10_DAILY.values\n",
    "soil_moisture_20 = df.SOIL_MOISTURE_20_DAILY.values\n",
    "soil_moisture_50 = df.SOIL_MOISTURE_50_DAILY.values\n",
    "soil_moisture_100 = df.SOIL_MOISTURE_100_DAILY.values\n",
    "date = df.index.values"
   ]
  },
  {
   "cell_type": "code",
   "execution_count": 2,
   "metadata": {},
   "outputs": [
    {
     "name": "stdout",
     "output_type": "stream",
     "text": [
      "WBANNO: XXXXX\n",
      "LST_DATE: YYYYMMDD\n",
      "CRX_VN: XXXXXX\n",
      "LONGITUDE: Decimal_degrees\n",
      "LATITUDE: Decimal_degrees\n",
      "T_DAILY_MAX: Celsius\n",
      "T_DAILY_MIN: Celsius\n",
      "T_DAILY_MEAN: Celsius\n",
      "T_DAILY_AVG: Celsius\n",
      "P_DAILY_CALC: mm\n",
      "SOLARAD_DAILY: MJ/m^2\n",
      "SUR_TEMP_DAILY_TYPE: X\n",
      "SUR_TEMP_DAILY_MAX: Celsius\n",
      "SUR_TEMP_DAILY_MIN: Celsius\n",
      "SUR_TEMP_DAILY_AVG: Celsius\n",
      "RH_DAILY_MAX: %\n",
      "RH_DAILY_MIN: %\n",
      "RH_DAILY_AVG: %\n",
      "SOIL_MOISTURE_5_DAILY: m^3/m^3\n",
      "SOIL_MOISTURE_10_DAILY: m^3/m^3\n",
      "SOIL_MOISTURE_20_DAILY: m^3/m^3\n",
      "SOIL_MOISTURE_50_DAILY: m^3/m^3\n",
      "SOIL_MOISTURE_100_DAILY: m^3/m^3\n",
      "SOIL_TEMP_5_DAILY: Celsius\n",
      "SOIL_TEMP_10_DAILY: Celsius\n",
      "SOIL_TEMP_20_DAILY: Celsius\n",
      "SOIL_TEMP_50_DAILY: Celsius\n",
      "SOIL_TEMP_100_DAILY: Celsius\n"
     ]
    }
   ],
   "source": [
    "units = ['XXXXX', 'YYYYMMDD', 'XXXXXX','Decimal_degrees', 'Decimal_degrees', 'Celsius', 'Celsius', \n",
    "         'Celsius', 'Celsius', 'mm', 'MJ/m^2', 'X', 'Celsius', 'Celsius', 'Celsius', '%', '%', '%',\n",
    "         'm^3/m^3', 'm^3/m^3', 'm^3/m^3', 'm^3/m^3', 'm^3/m^3', 'Celsius', 'Celsius', 'Celsius',\n",
    "         'Celsius', 'Celsius']\n",
    "\n",
    "for name, unit in zip(headers, units):\n",
    "    print(f'{name}: {unit}')"
   ]
  },
  {
   "cell_type": "markdown",
   "metadata": {},
   "source": [
    "![fig1](more_matplotlib_figures/fig1.png)"
   ]
  },
  {
   "cell_type": "markdown",
   "metadata": {},
   "source": [
    "### Problem 2: Contour Plots\n",
    "\n",
    "Now we will visualize some global temperature data from the NCEP-NCAR atmospheric reanalysis."
   ]
  },
  {
   "cell_type": "code",
   "execution_count": 3,
   "metadata": {},
   "outputs": [],
   "source": [
    "import xarray as xr\n",
    "ds_url = 'http://iridl.ldeo.columbia.edu/SOURCES/.NOAA/.NCEP-NCAR/.CDAS-1/.MONTHLY/.Diagnostic/.surface/.temp/dods'\n",
    "ds = xr.open_dataset(ds_url, decode_times=False)\n",
    "\n",
    "#########################################################\n",
    "#### BELOW ARE THE VARIABLES YOU SHOULD USE IN THE PLOTS!\n",
    "#### (numpy arrays) \n",
    "#### NO XARRAY ALLOWED!\n",
    "#########################################################\n",
    "\n",
    "temp = ds.temp[-1].values - 273.15\n",
    "lon = ds.X.values\n",
    "lat = ds.Y.values"
   ]
  },
  {
   "cell_type": "markdown",
   "metadata": {},
   "source": [
    "![fig2](more_matplotlib_figures/fig2.png)"
   ]
  },
  {
   "cell_type": "markdown",
   "metadata": {},
   "source": [
    "### Problem 3: Scatter plots\n",
    "Here we will make a map plot of earthquakes from a USGS catalog of historic large earthquakes. Color the earthquakes by log10(depth) and adjust the marker size to be magntiude$^4$/100"
   ]
  },
  {
   "cell_type": "code",
   "execution_count": 4,
   "metadata": {},
   "outputs": [
    {
     "name": "stdout",
     "output_type": "stream",
     "text": [
      "  % Total    % Received % Xferd  Average Speed   Time    Time     Time  Current\n",
      "                                 Dload  Upload   Total   Spent    Left  Speed\n",
      "100   388    0   388    0     0    560      0 --:--:-- --:--:-- --:--:--   559\n",
      "100  796k  100  796k    0     0   905k      0 --:--:-- --:--:-- --:--:--  905k\n"
     ]
    }
   ],
   "source": [
    "!curl -L -o earthquakes.tsv \"https://drive.google.com/uc?export=download&id=1dFZ4LbwNaw-Gr0G-ZlPAZ17n2qCkdQBP\""
   ]
  },
  {
   "cell_type": "code",
   "execution_count": 5,
   "metadata": {},
   "outputs": [],
   "source": [
    "import numpy as np"
   ]
  },
  {
   "cell_type": "code",
   "execution_count": 6,
   "metadata": {},
   "outputs": [],
   "source": [
    "#########################################################\n",
    "#### BELOW ARE THE VARIABLES YOU SHOULD USE IN THE PLOT!\n",
    "#########################################################\n",
    "\n",
    "earthquakes = np.genfromtxt('earthquakes.tsv', delimiter='\\t')\n",
    "depth = earthquakes[:, 8]\n",
    "magnitude = earthquakes[:, 9]\n",
    "latitude = earthquakes[:, 20]\n",
    "longitude = earthquakes[:, 21]"
   ]
  }
 ],
 "metadata": {
  "kernelspec": {
   "display_name": "Python 3",
   "language": "python",
   "name": "python3"
  },
  "language_info": {
   "codemirror_mode": {
    "name": "ipython",
    "version": 3
   },
   "file_extension": ".py",
   "mimetype": "text/x-python",
   "name": "python",
   "nbconvert_exporter": "python",
   "pygments_lexer": "ipython3",
   "version": "3.7.8"
  }
 },
 "nbformat": 4,
 "nbformat_minor": 4
}
