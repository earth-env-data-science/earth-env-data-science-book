{
 "cells": [
  {
   "cell_type": "markdown",
   "metadata": {},
   "source": [
    "# Assignment: Numpy and Matplotlib\n",
    "\n",
    "The goal of this assignment is to gain comfort creating, visualizating, and computing with numpy array. By the end of the assignment, you should feel comfortable:\n",
    "\n",
    "```{admonition} Learning Goals\n",
    ":class: tip\n",
    "\n",
    "- Creating new arrays using `linspace` and `arange`\n",
    "- Computing basic formulas with numpy arrays\n",
    "- Loading data from `.npy` files\n",
    "- Performing reductions (e.g. `mean`, `std` on numpy arrays)\n",
    "- Making 1D line plots\n",
    "- Making scatterplots\n",
    "- Annotating plots with titles and axes\n",
    "```\n",
    "\n",
    "## 1 Creating and Manipulating Arrays"
   ]
  },
  {
   "cell_type": "markdown",
   "metadata": {},
   "source": [
    "First import numpy and matplotlib"
   ]
  },
  {
   "cell_type": "code",
   "execution_count": null,
   "metadata": {},
   "outputs": [],
   "source": []
  },
  {
   "cell_type": "markdown",
   "metadata": {},
   "source": [
    "### 1.1. Create two 2D arrays representing coordinates x, y on the cartesian plan\n",
    "Both should cover the range (-2, 2) and have 100 points in each direction"
   ]
  },
  {
   "cell_type": "code",
   "execution_count": null,
   "metadata": {},
   "outputs": [],
   "source": []
  },
  {
   "cell_type": "markdown",
   "metadata": {},
   "source": [
    "### 1.2. Visualize each 2D array using `pcolormesh`\n",
    "\n",
    "Use the correct coordiantes for the x and y axes."
   ]
  },
  {
   "cell_type": "code",
   "execution_count": null,
   "metadata": {},
   "outputs": [],
   "source": []
  },
  {
   "cell_type": "markdown",
   "metadata": {},
   "source": [
    "### 1.3 From your cartesian coordinates, create polar coordinates $r$ and $\\varphi$\n",
    "\n",
    "Refer to the [wikipedia page](https://en.wikipedia.org/wiki/Polar_coordinate_system#Converting_between_polar_and_Cartesian_coordinates) for the conversion formula. You will need to use numpy's `arctan2` function. Read its documentation.\n"
   ]
  },
  {
   "cell_type": "code",
   "execution_count": null,
   "metadata": {},
   "outputs": [],
   "source": []
  },
  {
   "cell_type": "markdown",
   "metadata": {},
   "source": [
    "### 1.4. Visualize $r$ and $\\varphi$ on the 2D  $x$ / $y$ plane using `pcolormesh`"
   ]
  },
  {
   "cell_type": "code",
   "execution_count": null,
   "metadata": {},
   "outputs": [],
   "source": []
  },
  {
   "cell_type": "markdown",
   "metadata": {},
   "source": [
    "### 1.5 Caclulate the quanity $f = \\cos^2(4r) + \\sin^2(4\\varphi)$\n",
    "\n",
    "And plot it on the x$ / $y$ plane"
   ]
  },
  {
   "cell_type": "code",
   "execution_count": null,
   "metadata": {},
   "outputs": [],
   "source": []
  },
  {
   "cell_type": "markdown",
   "metadata": {},
   "source": [
    "### 1.6 Plot the mean of f with respect to the x axis\n",
    "\n",
    "as a function of y"
   ]
  },
  {
   "cell_type": "code",
   "execution_count": null,
   "metadata": {},
   "outputs": [],
   "source": []
  },
  {
   "cell_type": "markdown",
   "metadata": {},
   "source": [
    "### 1.7 Plot the mean of f with respect to the y axis\n",
    "\n",
    "as a function of x"
   ]
  },
  {
   "cell_type": "code",
   "execution_count": null,
   "metadata": {},
   "outputs": [],
   "source": []
  },
  {
   "cell_type": "markdown",
   "metadata": {},
   "source": [
    "### 1.8 Plot the mean of $f$ with respect to $\\phi$ as a function of $r$\n",
    "\n",
    "This is hard. You will need to define a discrete range of $r$ values and then figure out how to average $f$ within the bins defined by your $r$ grid. There are many different ways to accomplish this."
   ]
  },
  {
   "cell_type": "code",
   "execution_count": null,
   "metadata": {},
   "outputs": [],
   "source": []
  },
  {
   "cell_type": "markdown",
   "metadata": {
    "tags": []
   },
   "source": [
    "## Part 2: Analyze [ARGO](http://www.argo.ucsd.edu) Data\n",
    "\n",
    "In this problem, we use real data from ocean profiling floats.\n",
    "ARGO floats are autonomous robotic instruments that collect Temperature, Salinity, and Pressure data from the ocean. ARGO floats collect one \"profile\" (a set of messurements at different depths or \"levels\").\n",
    "\n",
    "<img src=\"https://argo.ucsd.edu/wp-content/uploads/sites/361/2020/06/float_cycle_1.png\" width=\"80%\" />\n",
    "\n",
    "Each profile has a single latitude, longitude, and date associated with it, in addition to many different levels.\n",
    "\n",
    "Let's start by using [pooch](https://www.fatiando.org/pooch/latest/) to download the data files we need for this exercise.\n",
    "The following code will give you a list of `.npy` files that you can open in the next step."
   ]
  },
  {
   "cell_type": "code",
   "execution_count": null,
   "metadata": {},
   "outputs": [],
   "source": [
    "import pooch\n",
    "url = \"https://www.ldeo.columbia.edu/~rpa/float_data_4901412.zip\"\n",
    "files = pooch.retrieve(url, processor=pooch.Unzip(), known_hash=\"2a703c720302c682f1662181d329c9f22f9f10e1539dc2d6082160a469165009\")\n",
    "files"
   ]
  },
  {
   "cell_type": "markdown",
   "metadata": {
    "tags": []
   },
   "source": [
    "### 2.1 Load each data file as a numpy array.\n",
    "\n",
    "You can use whatever names you want for your arrays, but I recommend\n",
    "\n",
    "`T`: temperature\n",
    "\n",
    "`S`: salinity\n",
    "\n",
    "`P`: pressure\n",
    "\n",
    "`date`: date\n",
    "\n",
    "`lat`: latitude\n",
    "\n",
    "`lon`: longitude\n",
    "\n",
    "`level`: depth level\n",
    "\n",
    "**Note**: you have to actually look at the file name (the items in `files`) to know which files corresponds to which variable.\n"
   ]
  },
  {
   "cell_type": "code",
   "execution_count": null,
   "metadata": {},
   "outputs": [],
   "source": []
  },
  {
   "cell_type": "markdown",
   "metadata": {},
   "source": [
    "### 2.2 Examine the shapes of T, S and P compared to `lon`, `lat`, `date` and `level`. How do you think they are related?\n",
    "\n",
    "Based on the shapes, which dimensions do you think are shared among the arrays?"
   ]
  },
  {
   "cell_type": "code",
   "execution_count": null,
   "metadata": {},
   "outputs": [],
   "source": []
  },
  {
   "cell_type": "markdown",
   "metadata": {
    "tags": []
   },
   "source": [
    "### 2.3 Make a plot for each column of data in T, S and P (three plots). \n",
    "\n",
    "The vertical scale should be the `levels` data. Each plot should have a line for each column of data. It will look messy."
   ]
  },
  {
   "cell_type": "code",
   "execution_count": null,
   "metadata": {},
   "outputs": [],
   "source": []
  },
  {
   "cell_type": "markdown",
   "metadata": {},
   "source": [
    "### 2.4 Compute the mean and standard deviation of each of T, S and P at each depth in `level`."
   ]
  },
  {
   "cell_type": "code",
   "execution_count": null,
   "metadata": {},
   "outputs": [],
   "source": []
  },
  {
   "cell_type": "markdown",
   "metadata": {},
   "source": [
    "### 2.5 Now make three similar plot, but show only the mean T, S and P at each depth. Show [error bars](https://matplotlib.org/3.1.1/api/_as_gen/matplotlib.pyplot.errorbar.html) on each plot using the standard deviations. \n"
   ]
  },
  {
   "cell_type": "code",
   "execution_count": null,
   "metadata": {},
   "outputs": [],
   "source": []
  },
  {
   "cell_type": "markdown",
   "metadata": {},
   "source": [
    "### 2.6 Account For Missing Data\n",
    "\n",
    "The profiles contain many missing values. These are indicated by the special \"Not a Number\" value, or `np.nan`.\n",
    "\n",
    "When you take the mean or standard deviation of data with NaNs in it, the entire result becomes NaN. Instead, if you use the special functions `np.nanmean` and `np.nanstd`, you tell NumPy to ignore the NaNs.\n",
    "\n",
    "Recalculate the means and standard deviations as in the previous sections using these functions and plot the results."
   ]
  },
  {
   "cell_type": "code",
   "execution_count": null,
   "metadata": {},
   "outputs": [],
   "source": []
  },
  {
   "cell_type": "markdown",
   "metadata": {
    "tags": []
   },
   "source": [
    "### 2.7 Create a scatter plot of the `lon`, `lat` positions of the ARGO float.\n",
    "\n",
    "Use the [plt.scatter](https://matplotlib.org/stable/api/_as_gen/matplotlib.pyplot.scatter.html) function."
   ]
  },
  {
   "cell_type": "code",
   "execution_count": null,
   "metadata": {},
   "outputs": [],
   "source": []
  }
 ],
 "metadata": {
  "kernelspec": {
   "display_name": "Python 3 (ipykernel)",
   "language": "python",
   "name": "python3"
  },
  "language_info": {
   "codemirror_mode": {
    "name": "ipython",
    "version": 3
   },
   "file_extension": ".py",
   "mimetype": "text/x-python",
   "name": "python",
   "nbconvert_exporter": "python",
   "pygments_lexer": "ipython3",
   "version": "3.8.10"
  }
 },
 "nbformat": 4,
 "nbformat_minor": 4
}
